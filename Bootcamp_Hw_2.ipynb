{
  "nbformat": 4,
  "nbformat_minor": 0,
  "metadata": {
    "colab": {
      "provenance": [],
      "authorship_tag": "ABX9TyO4xDv2kwkb9sqPDNfo1SaG",
      "include_colab_link": true
    },
    "kernelspec": {
      "name": "python3",
      "display_name": "Python 3"
    },
    "language_info": {
      "name": "python"
    }
  },
  "cells": [
    {
      "cell_type": "markdown",
      "metadata": {
        "id": "view-in-github",
        "colab_type": "text"
      },
      "source": [
        "<a href=\"https://colab.research.google.com/github/jessenb16/Data-Science-Bootcamp-Homework/blob/main/Bootcamp_Hw_2.ipynb\" target=\"_parent\"><img src=\"https://colab.research.google.com/assets/colab-badge.svg\" alt=\"Open In Colab\"/></a>"
      ]
    },
    {
      "cell_type": "code",
      "execution_count": 35,
      "metadata": {
        "colab": {
          "base_uri": "https://localhost:8080/"
        },
        "id": "7NYEKbJKJfdN",
        "outputId": "b733914b-ed5b-4407-d717-68292fbec64d"
      },
      "outputs": [
        {
          "output_type": "stream",
          "name": "stdout",
          "text": [
            "   Manufacturer    Model     Type\n",
            "0         Acura  Integra    Small\n",
            "20     Chrysler  LeBaron  Compact\n",
            "40        Honda  Prelude   Sporty\n",
            "60      Mercury   Cougar  Midsize\n",
            "80       Subaru   Loyale    Small\n",
            "<class 'pandas.core.frame.DataFrame'>\n",
            "RangeIndex: 93 entries, 0 to 92\n",
            "Data columns (total 27 columns):\n",
            " #   Column              Non-Null Count  Dtype  \n",
            "---  ------              --------------  -----  \n",
            " 0   Manufacturer        89 non-null     object \n",
            " 1   Model               92 non-null     object \n",
            " 2   Type                90 non-null     object \n",
            " 3   Min.Price           86 non-null     float64\n",
            " 4   Price               91 non-null     float64\n",
            " 5   Max.Price           88 non-null     float64\n",
            " 6   MPG.city            84 non-null     float64\n",
            " 7   MPG.highway         91 non-null     float64\n",
            " 8   AirBags             87 non-null     object \n",
            " 9   DriveTrain          86 non-null     object \n",
            " 10  Cylinders           88 non-null     object \n",
            " 11  EngineSize          91 non-null     float64\n",
            " 12  Horsepower          86 non-null     float64\n",
            " 13  RPM                 90 non-null     float64\n",
            " 14  Rev.per.mile        87 non-null     float64\n",
            " 15  Man.trans.avail     88 non-null     object \n",
            " 16  Fuel.tank.capacity  85 non-null     float64\n",
            " 17  Passengers          91 non-null     float64\n",
            " 18  Length              89 non-null     float64\n",
            " 19  Wheelbase           92 non-null     float64\n",
            " 20  Width               87 non-null     float64\n",
            " 21  Turn.circle         88 non-null     float64\n",
            " 22  Rear.seat.room      89 non-null     float64\n",
            " 23  Luggage.room        74 non-null     float64\n",
            " 24  Weight              86 non-null     float64\n",
            " 25  Origin              88 non-null     object \n",
            " 26  Make                90 non-null     object \n",
            "dtypes: float64(18), object(9)\n",
            "memory usage: 19.7+ KB\n",
            "Rows with row sum > 100:\n",
            "     0   1   2   3\n",
            "0   26  39  26  30\n",
            "1   36  27  33  24\n",
            "4   21  39  22  37\n",
            "6   33  39  18  32\n",
            "9   31  31  17  23\n",
            "12  13  31  39  22\n",
            "13  28  33  28  22\n"
          ]
        }
      ],
      "source": [
        "#Define two custom numpy arrays, say A and B. Generate two new numpy arrays by stacking A and B vertically and horizontally.\n",
        "#Find common elements between A and B. [Hint : Intersection of two sets]\n",
        "#Extract all numbers from A which are within a specific range. eg between 5 and 10. [Hint: np.where() might be useful or boolean masks]\n",
        "#Filter the rows of iris_2d that has petallength (3rd column) > 1.5 and sepallength (1st column) < 5.0\n",
        "\n",
        "import numpy as np\n",
        "\"\"\"\n",
        "A = np.array([1,2,3,4,7])\n",
        "B = np.array([4,5,6,4,5])\n",
        "C = np.vstack((A,B))\n",
        "D = np.hstack((A,B))\n",
        "print(C)\n",
        "print(D)\n",
        "print(\"\")\n",
        "set_A = set(A)\n",
        "set_B = set(B)\n",
        "common_elements = set_A.intersection(set_B)\n",
        "\n",
        "print(common_elements)\n",
        "print(\"\")\n",
        "\n",
        "mask = (A >= 3) & (A <= 5)\n",
        "result = A[mask]\n",
        "\n",
        "print(result)\n",
        "print(\"\")\n",
        "\n",
        "url = 'https://archive.ics.uci.edu/ml/machine-learning-databases/iris/iris.data'\n",
        "\n",
        "iris_2d = np.genfromtxt(url, delimiter=',', dtype='float', usecols=[0,1,2,3])\n",
        "\n",
        "filtered_rows = iris_2d[(iris_2d[:, 2] > 1.5) & (iris_2d[:, 0] < 5.0)]\n",
        "print(\"Filtered rows:\")\n",
        "print(filtered_rows)\n",
        "\"\"\"\n",
        "\n",
        "import pandas as pd\n",
        "\n",
        "#From df filter the 'Manufacturer', 'Model' and 'Type' for every 20th row starting from 1st (row 0).\n",
        "df = pd.read_csv('https://raw.githubusercontent.com/selva86/datasets/master/Cars93_miss.csv')\n",
        "f_data = df.iloc[::20, [0,1,2]]\n",
        "print(f_data)\n",
        "\n",
        "#Replace missing values in Min.Price and Max.Price columns with their respective mean.\n",
        "df.info()\n",
        "\n",
        "\n",
        "#How to get the rows of a dataframe with row sum > 100?\n",
        "df2 = pd.DataFrame(np.random.randint(10, 40, 60).reshape(-1, 4))\n",
        "\n",
        "sum_rows = df2[df2.sum(axis=1) > 100]\n",
        "\n",
        "print(\"Rows with row sum > 100:\")\n",
        "print(sum_rows)"
      ]
    }
  ]
}