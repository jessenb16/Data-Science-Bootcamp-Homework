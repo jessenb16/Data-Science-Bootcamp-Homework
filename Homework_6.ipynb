{
  "nbformat": 4,
  "nbformat_minor": 0,
  "metadata": {
    "colab": {
      "provenance": [],
      "authorship_tag": "ABX9TyNxpZ9PhktAVHsgHkWMp1xE",
      "include_colab_link": true
    },
    "kernelspec": {
      "name": "python3",
      "display_name": "Python 3"
    },
    "language_info": {
      "name": "python"
    }
  },
  "cells": [
    {
      "cell_type": "markdown",
      "metadata": {
        "id": "view-in-github",
        "colab_type": "text"
      },
      "source": [
        "<a href=\"https://colab.research.google.com/github/jessenb16/Data-Science-Bootcamp-Homework/blob/main/Homework_6.ipynb\" target=\"_parent\"><img src=\"https://colab.research.google.com/assets/colab-badge.svg\" alt=\"Open In Colab\"/></a>"
      ]
    },
    {
      "cell_type": "code",
      "execution_count": 1,
      "metadata": {
        "id": "At2u2JuSPb4k"
      },
      "outputs": [],
      "source": [
        "import pandas as pd\n",
        "import numpy as np\n",
        "import seaborn as sns\n",
        "import matplotlib.pyplot as plt\n",
        "import geopandas as gpd\n",
        "\n",
        "df = pd.read_csv('employee.csv')\n"
      ]
    },
    {
      "cell_type": "code",
      "source": [
        "from sklearn.preprocessing import OneHotEncoder, StandardScaler\n",
        "from sklearn.model_selection import train_test_split\n",
        "\n",
        "from sklearn.linear_model import LinearRegression\n",
        "from sklearn.metrics import mean_absolute_error, mean_squared_error\n",
        "\n",
        "import warnings\n",
        "warnings.filterwarnings('ignore')\n",
        "pd.set_option(\"display.max_columns\", 101)"
      ],
      "metadata": {
        "id": "3XbaOorvZTK8"
      },
      "execution_count": 38,
      "outputs": []
    },
    {
      "cell_type": "code",
      "source": [
        "df.isnull().sum()\n"
      ],
      "metadata": {
        "colab": {
          "base_uri": "https://localhost:8080/"
        },
        "id": "nPEW8V4TQQA4",
        "outputId": "7adc48d6-b351-452d-c420-4257765bc33b"
      },
      "execution_count": 23,
      "outputs": [
        {
          "output_type": "execute_result",
          "data": {
            "text/plain": [
              "id                               0\n",
              "timestamp                        0\n",
              "country                          0\n",
              "employment_status                0\n",
              "job_title                        0\n",
              "job_years                        0\n",
              "is_manager                       0\n",
              "hours_per_week                   0\n",
              "telecommute_days_per_week        0\n",
              "education                        0\n",
              "is_education_computer_related    0\n",
              "certifications                   0\n",
              "salary                           0\n",
              "dtype: int64"
            ]
          },
          "metadata": {},
          "execution_count": 23
        }
      ]
    },
    {
      "cell_type": "code",
      "source": [
        "df.loc[df['hours_per_week'].isna(), 'hours_per_week'] = df['hours_per_week'].median()\n",
        "df.loc[df['telecommute_days_per_week'].isna(), 'telecommute_days_per_week'] = df['telecommute_days_per_week'].median()\n",
        "df = df.dropna()"
      ],
      "metadata": {
        "id": "uZUQVtbnSC0z"
      },
      "execution_count": 17,
      "outputs": []
    },
    {
      "cell_type": "code",
      "source": [
        "df=df.drop(columns=['id', 'timestamp', 'country' ])"
      ],
      "metadata": {
        "id": "Ov5ae79tS__q"
      },
      "execution_count": 28,
      "outputs": []
    },
    {
      "cell_type": "code",
      "source": [
        "df.info()"
      ],
      "metadata": {
        "colab": {
          "base_uri": "https://localhost:8080/"
        },
        "id": "Z4K3JhU4V64A",
        "outputId": "bc6841d9-98a4-47c8-8a5a-74985580f07e"
      },
      "execution_count": 29,
      "outputs": [
        {
          "output_type": "stream",
          "name": "stdout",
          "text": [
            "<class 'pandas.core.frame.DataFrame'>\n",
            "Index: 4261 entries, 0 to 4276\n",
            "Data columns (total 10 columns):\n",
            " #   Column                         Non-Null Count  Dtype  \n",
            "---  ------                         --------------  -----  \n",
            " 0   employment_status              4261 non-null   object \n",
            " 1   job_title                      4261 non-null   object \n",
            " 2   job_years                      4261 non-null   float64\n",
            " 3   is_manager                     4261 non-null   object \n",
            " 4   hours_per_week                 4261 non-null   float64\n",
            " 5   telecommute_days_per_week      4261 non-null   float64\n",
            " 6   education                      4261 non-null   object \n",
            " 7   is_education_computer_related  4261 non-null   object \n",
            " 8   certifications                 4261 non-null   object \n",
            " 9   salary                         4261 non-null   float64\n",
            "dtypes: float64(4), object(6)\n",
            "memory usage: 366.2+ KB\n"
          ]
        }
      ]
    },
    {
      "cell_type": "code",
      "source": [
        "dft = df.copy()\n",
        "cat_cols = [c for c in dft.columns if dft[c].dtype == 'object'\n",
        "            and c not in ['is_manager', 'certifications']]\n",
        "cat_data = dft[cat_cols]\n",
        "cat_cols"
      ],
      "metadata": {
        "colab": {
          "base_uri": "https://localhost:8080/"
        },
        "id": "9vusTWx6WZwE",
        "outputId": "46a57b1f-17a1-4019-9d8e-9a57cfca7169"
      },
      "execution_count": 45,
      "outputs": [
        {
          "output_type": "execute_result",
          "data": {
            "text/plain": [
              "['employment_status',\n",
              " 'job_title',\n",
              " 'education',\n",
              " 'is_education_computer_related']"
            ]
          },
          "metadata": {},
          "execution_count": 45
        }
      ]
    },
    {
      "cell_type": "code",
      "source": [
        "bin_cols = ['is_manager', 'certifications']\n",
        "for c in bin_cols:\n",
        "    dft[c] = dft[c].replace(to_replace=['Yes'], value=1)\n",
        "    dft[c] = dft[c].replace(to_replace=['No'], value=0)"
      ],
      "metadata": {
        "id": "xAivZfzpXnz6"
      },
      "execution_count": 46,
      "outputs": []
    },
    {
      "cell_type": "code",
      "source": [
        "final_dft = pd.get_dummies(dft, columns=cat_cols, drop_first=True, dtype=int)\n",
        "final_dft.info()"
      ],
      "metadata": {
        "colab": {
          "base_uri": "https://localhost:8080/"
        },
        "id": "vNQBbBeNYNbe",
        "outputId": "33b0be56-22a3-42f3-ca30-d12c4439f064"
      },
      "execution_count": 47,
      "outputs": [
        {
          "output_type": "stream",
          "name": "stdout",
          "text": [
            "<class 'pandas.core.frame.DataFrame'>\n",
            "Index: 4261 entries, 0 to 4276\n",
            "Data columns (total 25 columns):\n",
            " #   Column                                                        Non-Null Count  Dtype  \n",
            "---  ------                                                        --------------  -----  \n",
            " 0   job_years                                                     4261 non-null   float64\n",
            " 1   is_manager                                                    4261 non-null   int64  \n",
            " 2   hours_per_week                                                4261 non-null   float64\n",
            " 3   telecommute_days_per_week                                     4261 non-null   float64\n",
            " 4   certifications                                                4261 non-null   int64  \n",
            " 5   salary                                                        4261 non-null   float64\n",
            " 6   employment_status_Independent or freelancer or company owner  4261 non-null   int64  \n",
            " 7   employment_status_Part time                                   4261 non-null   int64  \n",
            " 8   job_title_Analytics consultant                                4261 non-null   int64  \n",
            " 9   job_title_Architect                                           4261 non-null   int64  \n",
            " 10  job_title_DBA                                                 4261 non-null   int64  \n",
            " 11  job_title_Data Scientist                                      4261 non-null   int64  \n",
            " 12  job_title_Developer                                           4261 non-null   int64  \n",
            " 13  job_title_Engineer                                            4261 non-null   int64  \n",
            " 14  job_title_Manager                                             4261 non-null   int64  \n",
            " 15  job_title_Other                                               4261 non-null   int64  \n",
            " 16  job_title_Principal database engineer                         4261 non-null   int64  \n",
            " 17  job_title_Sales                                               4261 non-null   int64  \n",
            " 18  job_title_Sr Consultant                                       4261 non-null   int64  \n",
            " 19  education_Bachelors (4 years)                                 4261 non-null   int64  \n",
            " 20  education_Doctorate/PhD                                       4261 non-null   int64  \n",
            " 21  education_Masters                                             4261 non-null   int64  \n",
            " 22  education_None (no degree completed)                          4261 non-null   int64  \n",
            " 23  is_education_computer_related_Unknown                         4261 non-null   int64  \n",
            " 24  is_education_computer_related_Yes                             4261 non-null   int64  \n",
            "dtypes: float64(4), int64(21)\n",
            "memory usage: 865.5 KB\n"
          ]
        }
      ]
    },
    {
      "cell_type": "code",
      "source": [
        "y = final_dft['salary']\n",
        "X = final_dft.drop(columns=['salary'])\n",
        "\n",
        "X_train, X_test, y_train, y_test = train_test_split(X, y, test_size=0.2)"
      ],
      "metadata": {
        "id": "_eBh9-KAYxI3"
      },
      "execution_count": 48,
      "outputs": []
    },
    {
      "cell_type": "code",
      "source": [
        "num_cols = ['job_years', 'hours_per_week', 'telecommute_days_per_week']\n",
        "scaler = StandardScaler()\n",
        "scaler.fit(X_train[num_cols])\n",
        "X_train[num_cols] = scaler.transform(X_train[num_cols])"
      ],
      "metadata": {
        "id": "usxFs0wHZt2O"
      },
      "execution_count": 54,
      "outputs": []
    },
    {
      "cell_type": "code",
      "source": [
        "reg = LinearRegression()\n",
        "reg.fit(X_train, y_train)\n",
        "LinearRegression()"
      ],
      "metadata": {
        "colab": {
          "base_uri": "https://localhost:8080/",
          "height": 75
        },
        "id": "qd-ntsK9alKj",
        "outputId": "5d5eeef1-abc0-45c5-b874-2addbb6dcf6f"
      },
      "execution_count": 60,
      "outputs": [
        {
          "output_type": "execute_result",
          "data": {
            "text/plain": [
              "LinearRegression()"
            ],
            "text/html": [
              "<style>#sk-container-id-3 {color: black;background-color: white;}#sk-container-id-3 pre{padding: 0;}#sk-container-id-3 div.sk-toggleable {background-color: white;}#sk-container-id-3 label.sk-toggleable__label {cursor: pointer;display: block;width: 100%;margin-bottom: 0;padding: 0.3em;box-sizing: border-box;text-align: center;}#sk-container-id-3 label.sk-toggleable__label-arrow:before {content: \"▸\";float: left;margin-right: 0.25em;color: #696969;}#sk-container-id-3 label.sk-toggleable__label-arrow:hover:before {color: black;}#sk-container-id-3 div.sk-estimator:hover label.sk-toggleable__label-arrow:before {color: black;}#sk-container-id-3 div.sk-toggleable__content {max-height: 0;max-width: 0;overflow: hidden;text-align: left;background-color: #f0f8ff;}#sk-container-id-3 div.sk-toggleable__content pre {margin: 0.2em;color: black;border-radius: 0.25em;background-color: #f0f8ff;}#sk-container-id-3 input.sk-toggleable__control:checked~div.sk-toggleable__content {max-height: 200px;max-width: 100%;overflow: auto;}#sk-container-id-3 input.sk-toggleable__control:checked~label.sk-toggleable__label-arrow:before {content: \"▾\";}#sk-container-id-3 div.sk-estimator input.sk-toggleable__control:checked~label.sk-toggleable__label {background-color: #d4ebff;}#sk-container-id-3 div.sk-label input.sk-toggleable__control:checked~label.sk-toggleable__label {background-color: #d4ebff;}#sk-container-id-3 input.sk-hidden--visually {border: 0;clip: rect(1px 1px 1px 1px);clip: rect(1px, 1px, 1px, 1px);height: 1px;margin: -1px;overflow: hidden;padding: 0;position: absolute;width: 1px;}#sk-container-id-3 div.sk-estimator {font-family: monospace;background-color: #f0f8ff;border: 1px dotted black;border-radius: 0.25em;box-sizing: border-box;margin-bottom: 0.5em;}#sk-container-id-3 div.sk-estimator:hover {background-color: #d4ebff;}#sk-container-id-3 div.sk-parallel-item::after {content: \"\";width: 100%;border-bottom: 1px solid gray;flex-grow: 1;}#sk-container-id-3 div.sk-label:hover label.sk-toggleable__label {background-color: #d4ebff;}#sk-container-id-3 div.sk-serial::before {content: \"\";position: absolute;border-left: 1px solid gray;box-sizing: border-box;top: 0;bottom: 0;left: 50%;z-index: 0;}#sk-container-id-3 div.sk-serial {display: flex;flex-direction: column;align-items: center;background-color: white;padding-right: 0.2em;padding-left: 0.2em;position: relative;}#sk-container-id-3 div.sk-item {position: relative;z-index: 1;}#sk-container-id-3 div.sk-parallel {display: flex;align-items: stretch;justify-content: center;background-color: white;position: relative;}#sk-container-id-3 div.sk-item::before, #sk-container-id-3 div.sk-parallel-item::before {content: \"\";position: absolute;border-left: 1px solid gray;box-sizing: border-box;top: 0;bottom: 0;left: 50%;z-index: -1;}#sk-container-id-3 div.sk-parallel-item {display: flex;flex-direction: column;z-index: 1;position: relative;background-color: white;}#sk-container-id-3 div.sk-parallel-item:first-child::after {align-self: flex-end;width: 50%;}#sk-container-id-3 div.sk-parallel-item:last-child::after {align-self: flex-start;width: 50%;}#sk-container-id-3 div.sk-parallel-item:only-child::after {width: 0;}#sk-container-id-3 div.sk-dashed-wrapped {border: 1px dashed gray;margin: 0 0.4em 0.5em 0.4em;box-sizing: border-box;padding-bottom: 0.4em;background-color: white;}#sk-container-id-3 div.sk-label label {font-family: monospace;font-weight: bold;display: inline-block;line-height: 1.2em;}#sk-container-id-3 div.sk-label-container {text-align: center;}#sk-container-id-3 div.sk-container {/* jupyter's `normalize.less` sets `[hidden] { display: none; }` but bootstrap.min.css set `[hidden] { display: none !important; }` so we also need the `!important` here to be able to override the default hidden behavior on the sphinx rendered scikit-learn.org. See: https://github.com/scikit-learn/scikit-learn/issues/21755 */display: inline-block !important;position: relative;}#sk-container-id-3 div.sk-text-repr-fallback {display: none;}</style><div id=\"sk-container-id-3\" class=\"sk-top-container\"><div class=\"sk-text-repr-fallback\"><pre>LinearRegression()</pre><b>In a Jupyter environment, please rerun this cell to show the HTML representation or trust the notebook. <br />On GitHub, the HTML representation is unable to render, please try loading this page with nbviewer.org.</b></div><div class=\"sk-container\" hidden><div class=\"sk-item\"><div class=\"sk-estimator sk-toggleable\"><input class=\"sk-toggleable__control sk-hidden--visually\" id=\"sk-estimator-id-3\" type=\"checkbox\" checked><label for=\"sk-estimator-id-3\" class=\"sk-toggleable__label sk-toggleable__label-arrow\">LinearRegression</label><div class=\"sk-toggleable__content\"><pre>LinearRegression()</pre></div></div></div></div></div>"
            ]
          },
          "metadata": {},
          "execution_count": 60
        }
      ]
    },
    {
      "cell_type": "code",
      "source": [
        "reg.coef_"
      ],
      "metadata": {
        "colab": {
          "base_uri": "https://localhost:8080/"
        },
        "id": "ooJax6tacG83",
        "outputId": "7da3374d-45ed-4999-8717-50f74c46a7f6"
      },
      "execution_count": 63,
      "outputs": [
        {
          "output_type": "execute_result",
          "data": {
            "text/plain": [
              "array([  180.49376824,    50.039116  ,   191.55123741,   222.30363   ,\n",
              "          82.13963572,   -41.39481292,   147.98521623, -2209.39268975,\n",
              "        1050.92710458,   830.72459961,   767.41031478,   500.13073073,\n",
              "         975.87581766,   805.65290748,    46.11759783,   915.074053  ,\n",
              "         693.30554827,  3518.66940974,   372.14444707,   -22.29039115,\n",
              "         229.39565408,   222.49462987,  -317.56469605,  -167.80424186])"
            ]
          },
          "metadata": {},
          "execution_count": 63
        }
      ]
    },
    {
      "cell_type": "code",
      "source": [
        "reg.intercept_"
      ],
      "metadata": {
        "colab": {
          "base_uri": "https://localhost:8080/"
        },
        "id": "yt7vKu5ucU43",
        "outputId": "29724992-6b30-4533-81b8-1bce4b953b66"
      },
      "execution_count": 64,
      "outputs": [
        {
          "output_type": "execute_result",
          "data": {
            "text/plain": [
              "6149.859917628925"
            ]
          },
          "metadata": {},
          "execution_count": 64
        }
      ]
    },
    {
      "cell_type": "code",
      "source": [
        "mean_squared_error(y_train,reg.predict(X_train))/np.mean(y_train)"
      ],
      "metadata": {
        "colab": {
          "base_uri": "https://localhost:8080/"
        },
        "id": "V_C1IzuJceOs",
        "outputId": "f06547ab-47b5-461b-e841-a512aa8a5d7f"
      },
      "execution_count": 65,
      "outputs": [
        {
          "output_type": "execute_result",
          "data": {
            "text/plain": [
              "209.58418281685852"
            ]
          },
          "metadata": {},
          "execution_count": 65
        }
      ]
    },
    {
      "cell_type": "code",
      "source": [
        "y_pred = reg.predict(X_test)"
      ],
      "metadata": {
        "id": "aomB_OdScvm7"
      },
      "execution_count": 66,
      "outputs": []
    },
    {
      "cell_type": "code",
      "source": [
        "mse=mean_squared_error(y_pred, y_test)/np.mean(y_test)\n",
        "print(\"Mean squared error\", mse)"
      ],
      "metadata": {
        "colab": {
          "base_uri": "https://localhost:8080/"
        },
        "id": "Qi_Sf1U-c0Iy",
        "outputId": "06c76d0a-29e6-4977-bef6-694e14a1e69f"
      },
      "execution_count": 67,
      "outputs": [
        {
          "output_type": "stream",
          "name": "stdout",
          "text": [
            "Mean squared error 11328.900069595293\n"
          ]
        }
      ]
    },
    {
      "cell_type": "code",
      "source": [
        "mae = mean_absolute_error(y_test, y_pred)\n",
        "print(\"Mean Absolute Error:\", mae)"
      ],
      "metadata": {
        "colab": {
          "base_uri": "https://localhost:8080/"
        },
        "id": "zC41EW3Pd1L7",
        "outputId": "d165f954-b704-424c-ae53-5d237dc96be1"
      },
      "execution_count": 68,
      "outputs": [
        {
          "output_type": "stream",
          "name": "stdout",
          "text": [
            "Mean Absolute Error: 8863.553389142065\n"
          ]
        }
      ]
    }
  ]
}